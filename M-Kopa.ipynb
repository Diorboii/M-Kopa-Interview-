{
 "cells": [
  {
   "cell_type": "code",
   "execution_count": 1,
   "id": "52f2cffb",
   "metadata": {},
   "outputs": [],
   "source": [
    "import streamlit as st\n"
   ]
  },
  {
   "cell_type": "code",
   "execution_count": null,
   "id": "07a2402d",
   "metadata": {},
   "outputs": [],
   "source": [
    "st.write(\"\"\"M-Kopa's customers open a pay-as-you-go account for a specific plan and make payments over time to purchase a product. \n",
    "The process is mirrored by the following datasets.\"\"\")"
   ]
  }
 ],
 "metadata": {
  "kernelspec": {
   "display_name": "Python 3",
   "language": "python",
   "name": "python3"
  },
  "language_info": {
   "codemirror_mode": {
    "name": "ipython",
    "version": 3
   },
   "file_extension": ".py",
   "mimetype": "text/x-python",
   "name": "python",
   "nbconvert_exporter": "python",
   "pygments_lexer": "ipython3",
   "version": "3.8.8"
  }
 },
 "nbformat": 4,
 "nbformat_minor": 5
}
